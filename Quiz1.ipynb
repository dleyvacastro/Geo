{
 "cells": [
  {
   "cell_type": "code",
   "execution_count": 1,
   "metadata": {
    "collapsed": true
   },
   "outputs": [],
   "source": [
    "import random\n",
    "class Point:\n",
    "    def __init__(self, x, y):\n",
    "        self.x = x\n",
    "        self.y = y\n",
    "\n",
    "    def __lt__(self, p) -> bool:\n",
    "        return (self.y > p.y) or (self.y == p.y and self.x < p.x)\n",
    "\n",
    "    def __gt__(self, p) -> bool:\n",
    "        return not self.__lt__(p)\n",
    "\n",
    "    def __eq__(self, p) -> bool:\n",
    "        return self.x == p.x and self.y == p.y\n",
    "\n",
    "    def __str__(self):\n",
    "        return f\"({self.x}, {self.y})\"\n",
    "\n",
    "    def __repr__(self):\n",
    "        return f\"({self.x}, {self.y})\"\n"
   ]
  },
  {
   "cell_type": "code",
   "execution_count": 2,
   "outputs": [],
   "source": [
    "class Node:\n",
    "    def __init__(self, data):\n",
    "        self.data = data\n",
    "        self.left = None\n",
    "        self.right = None\n",
    "\n",
    "def insertBST(root, node):\n",
    "  if (node.data < root.data):\n",
    "    if root.left is None:\n",
    "      root.left = node\n",
    "    else:\n",
    "      insertBST(root.left, node)\n",
    "  else:\n",
    "    if root.right is None:\n",
    "      root.right = node\n",
    "    else:\n",
    "      insertBST(root.right, node)\n",
    "\n",
    "def inOrder(node):\n",
    "  inorderArr = []\n",
    "\n",
    "  if node.left is not None:\n",
    "    leftInorderArr = inOrder(node.left)\n",
    "    inorderArr.extend(leftInorderArr)\n",
    "\n",
    "  inorderArr.append(node.data)\n",
    "\n",
    "  if node.right is not None:\n",
    "    rightInorderArr = inOrder(node.right)\n",
    "    inorderArr.extend(rightInorderArr)\n",
    "  return inorderArr\n",
    "\n",
    "\n"
   ],
   "metadata": {
    "collapsed": false
   }
  },
  {
   "cell_type": "code",
   "execution_count": 6,
   "outputs": [
    {
     "name": "stdout",
     "output_type": "stream",
     "text": [
      "Generated set: [(6, 3), (9, 10), (5, 5), (3, 7), (6, 7), (7, 3), (7, 3), (9, 6), (10, 2), (2, 9)]\n",
      "Sorted Set: [(9, 10), (2, 9), (3, 7), (6, 7), (9, 6), (5, 5), (6, 3), (7, 3), (7, 3), (10, 2)]\n"
     ]
    }
   ],
   "source": [
    "points = [Point(random.randint(0, 10), random.randint(0, 10)) for _ in range(10)]\n",
    "root = Node(points[0])\n",
    "for point in points[1:]:\n",
    "    insertBST(root, Node(point))\n",
    "c = inOrder(root)\n",
    "print(f\"Generated set: {points}\\nSorted Set: {c}\")\n"
   ],
   "metadata": {
    "collapsed": false
   }
  }
 ],
 "metadata": {
  "kernelspec": {
   "display_name": "Python 3",
   "language": "python",
   "name": "python3"
  },
  "language_info": {
   "codemirror_mode": {
    "name": "ipython",
    "version": 2
   },
   "file_extension": ".py",
   "mimetype": "text/x-python",
   "name": "python",
   "nbconvert_exporter": "python",
   "pygments_lexer": "ipython2",
   "version": "2.7.6"
  }
 },
 "nbformat": 4,
 "nbformat_minor": 0
}
